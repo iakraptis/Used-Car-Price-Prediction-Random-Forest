{
 "cells": [
  {
   "cell_type": "code",
   "execution_count": 1,
   "id": "16ca56d8-70d4-4005-ad54-5792d8867206",
   "metadata": {},
   "outputs": [],
   "source": [
    "# import libraries\n",
    "import numpy as np\n",
    "import matplotlib.pyplot as plt\n",
    "import sklearn.linear_model\n",
    "import pandas as pd\n",
    "\n",
    "\n",
    "from sklearn.ensemble import RandomForestRegressor\n",
    "\n",
    "%matplotlib inline"
   ]
  },
  {
   "cell_type": "code",
   "execution_count": 2,
   "id": "d811e651-d097-4a07-924c-dac21aca06dd",
   "metadata": {},
   "outputs": [
    {
     "name": "stdout",
     "output_type": "stream",
     "text": [
      "      carID  price\n",
      "0     13207  31995\n",
      "1     17314   7700\n",
      "2     12342  58990\n",
      "3     13426  12999\n",
      "4     16004  16990\n",
      "...     ...    ...\n",
      "4955  16898  17999\n",
      "4956  14416  28900\n",
      "4957  15453   8998\n",
      "4958  14666  23198\n",
      "4959  15135  14900\n",
      "\n",
      "[4960 rows x 2 columns]\n",
      "<bound method NDFrame.head of       carID     brand      model  year transmission  mileage fuelType    tax  \\\n",
      "0     13207    hyundi   Santa Fe  2019    Semi-Auto     4223   Diesel  145.0   \n",
      "1     17314  vauxhall        GTC  2015       Manual    47870   Diesel  125.0   \n",
      "2     12342      audi        RS4  2019    Automatic     5151   Petrol  145.0   \n",
      "3     13426        vw   Scirocco  2016    Automatic    20423   Diesel   30.0   \n",
      "4     16004     skoda      Scala  2020    Semi-Auto     3569   Petrol  145.0   \n",
      "...     ...       ...        ...   ...          ...      ...      ...    ...   \n",
      "4955  16898      merc   GL Class  2015    Automatic    24314   Diesel  125.0   \n",
      "4956  14416       bmw   6 Series  2017    Automatic    18000   Diesel  145.0   \n",
      "4957  15453        vw         CC  2015       Manual    84932   Diesel   30.0   \n",
      "4958  14666      audi         A7  2017    Semi-Auto    30150   Diesel  145.0   \n",
      "4959  15135      merc        SLK  2014    Automatic    40230   Diesel  150.0   \n",
      "\n",
      "       mpg  engineSize  \n",
      "0     39.8         2.2  \n",
      "1     60.1         2.0  \n",
      "2     29.1         2.9  \n",
      "3     57.6         2.0  \n",
      "4     47.1         1.0  \n",
      "...    ...         ...  \n",
      "4955  56.6         2.1  \n",
      "4956  51.4         3.0  \n",
      "4957  60.1         2.0  \n",
      "4958  62.8         3.0  \n",
      "4959  56.5         3.0  \n",
      "\n",
      "[4960 rows x 10 columns]>\n"
     ]
    }
   ],
   "source": [
    "# import data\n",
    "\n",
    "features = pd.read_csv('data/X_train.csv', sep=',')\n",
    "targets = pd.read_csv('data/y_train.csv', sep=',')\n",
    "\n",
    "print (targets)\n",
    "print (features.head)\n"
   ]
  },
  {
   "cell_type": "code",
   "execution_count": 3,
   "id": "4e323587-3206-4011-8602-962b7ace6eb6",
   "metadata": {},
   "outputs": [
    {
     "name": "stdout",
     "output_type": "stream",
     "text": [
      "['carID', 'brand', 'model', 'year', 'transmission', 'mileage', 'fuelType', 'tax', 'mpg', 'engineSize']\n",
      "      Automatic  Manual  Other  Semi-Auto\n",
      "0             0       0      0          1\n",
      "1             0       1      0          0\n",
      "2             1       0      0          0\n",
      "3             1       0      0          0\n",
      "4             0       0      0          1\n",
      "...         ...     ...    ...        ...\n",
      "4955          1       0      0          0\n",
      "4956          1       0      0          0\n",
      "4957          0       1      0          0\n",
      "4958          0       0      0          1\n",
      "4959          1       0      0          0\n",
      "\n",
      "[4960 rows x 4 columns]\n",
      "0       Semi-Auto\n",
      "1          Manual\n",
      "2       Automatic\n",
      "3       Automatic\n",
      "4       Semi-Auto\n",
      "          ...    \n",
      "4955    Automatic\n",
      "4956    Automatic\n",
      "4957       Manual\n",
      "4958    Semi-Auto\n",
      "4959    Automatic\n",
      "Name: transmission, Length: 4960, dtype: object\n",
      "<bound method NDFrame.head of       carID  year  mileage fuelType    tax   mpg  engineSize  Automatic  \\\n",
      "0     13207  2019     4223   Diesel  145.0  39.8         2.2          0   \n",
      "1     17314  2015    47870   Diesel  125.0  60.1         2.0          0   \n",
      "2     12342  2019     5151   Petrol  145.0  29.1         2.9          1   \n",
      "3     13426  2016    20423   Diesel   30.0  57.6         2.0          1   \n",
      "4     16004  2020     3569   Petrol  145.0  47.1         1.0          0   \n",
      "...     ...   ...      ...      ...    ...   ...         ...        ...   \n",
      "4955  16898  2015    24314   Diesel  125.0  56.6         2.1          1   \n",
      "4956  14416  2017    18000   Diesel  145.0  51.4         3.0          1   \n",
      "4957  15453  2015    84932   Diesel   30.0  60.1         2.0          0   \n",
      "4958  14666  2017    30150   Diesel  145.0  62.8         3.0          0   \n",
      "4959  15135  2014    40230   Diesel  150.0  56.5         3.0          1   \n",
      "\n",
      "      Manual  Other  Semi-Auto  \n",
      "0          0      0          1  \n",
      "1          1      0          0  \n",
      "2          0      0          0  \n",
      "3          0      0          0  \n",
      "4          0      0          1  \n",
      "...      ...    ...        ...  \n",
      "4955       0      0          0  \n",
      "4956       0      0          0  \n",
      "4957       1      0          0  \n",
      "4958       0      0          1  \n",
      "4959       0      0          0  \n",
      "\n",
      "[4960 rows x 11 columns]>\n"
     ]
    }
   ],
   "source": [
    "\n",
    "# one hot encoding of categorical data \n",
    "# transmission\n",
    "\n",
    "print(features.columns.tolist())\n",
    "one_hot = pd.get_dummies(features['transmission'])\n",
    "print (one_hot)\n",
    "print (features['transmission'])\n",
    "features = features.drop('transmission', axis = 1)\n",
    "\n",
    "features = features.join(one_hot)\n",
    "\n",
    "\n",
    "# remove brand and model\n",
    "features = features.drop('brand', axis = 1)\n",
    "features = features.drop('model', axis = 1)\n",
    "print (features.head)\n"
   ]
  },
  {
   "cell_type": "code",
   "execution_count": 4,
   "id": "c3d1a33b-1877-4220-815e-b49df1b9b555",
   "metadata": {},
   "outputs": [],
   "source": [
    "# one hot fuelType\n",
    "# Both fueltype and transmission have an \"other\" category, complicating thigs\n",
    "#features['Other'].value_counts()\n",
    "\n",
    "\n",
    "one_hot = pd.get_dummies(features['fuelType'])\n",
    "\n",
    "\n",
    "features = features.drop('fuelType', axis = 1)\n",
    "features = features.join(one_hot, how='left', lsuffix='_tr', rsuffix='_fuel')\n",
    "\n",
    "# remove carID\n",
    "features = features.drop('carID', axis = 1)\n",
    "targets = targets.drop('carID', axis = 1)\n",
    "\n",
    "# Test without/ with tax feature\n",
    "#features = features.drop('tax', axis = 1)"
   ]
  },
  {
   "cell_type": "code",
   "execution_count": 5,
   "id": "0901bd32-75c9-4032-b05f-2ec65dcddf0a",
   "metadata": {},
   "outputs": [
    {
     "name": "stdout",
     "output_type": "stream",
     "text": [
      "      year  mileage    tax   mpg  engineSize  Automatic  Manual  Other_tr  \\\n",
      "0     2019     4223  145.0  39.8         2.2          0       0         0   \n",
      "1     2015    47870  125.0  60.1         2.0          0       1         0   \n",
      "2     2019     5151  145.0  29.1         2.9          1       0         0   \n",
      "3     2016    20423   30.0  57.6         2.0          1       0         0   \n",
      "4     2020     3569  145.0  47.1         1.0          0       0         0   \n",
      "...    ...      ...    ...   ...         ...        ...     ...       ...   \n",
      "4955  2015    24314  125.0  56.6         2.1          1       0         0   \n",
      "4956  2017    18000  145.0  51.4         3.0          1       0         0   \n",
      "4957  2015    84932   30.0  60.1         2.0          0       1         0   \n",
      "4958  2017    30150  145.0  62.8         3.0          0       0         0   \n",
      "4959  2014    40230  150.0  56.5         3.0          1       0         0   \n",
      "\n",
      "      Semi-Auto  Diesel  Electric  Hybrid  Other_fuel  Petrol  \n",
      "0             1       1         0       0           0       0  \n",
      "1             0       1         0       0           0       0  \n",
      "2             0       0         0       0           0       1  \n",
      "3             0       1         0       0           0       0  \n",
      "4             1       0         0       0           0       1  \n",
      "...         ...     ...       ...     ...         ...     ...  \n",
      "4955          0       1         0       0           0       0  \n",
      "4956          0       1         0       0           0       0  \n",
      "4957          0       1         0       0           0       0  \n",
      "4958          1       1         0       0           0       0  \n",
      "4959          0       1         0       0           0       0  \n",
      "\n",
      "[4960 rows x 14 columns]\n"
     ]
    }
   ],
   "source": [
    "x = features.copy()\n",
    "y = targets.copy()\n",
    "\n",
    "print (features)"
   ]
  },
  {
   "cell_type": "code",
   "execution_count": 6,
   "id": "badba7e2-4e50-44a1-a5f3-43297690f3cd",
   "metadata": {},
   "outputs": [
    {
     "name": "stdout",
     "output_type": "stream",
     "text": [
      "(4960, 14)\n",
      "(4960, 1)\n"
     ]
    }
   ],
   "source": [
    "print(x.shape)\n",
    "print (y.shape)\n",
    "\n",
    "from sklearn.preprocessing import StandardScaler\n",
    "scaler = StandardScaler()\n",
    "scaler = scaler.fit(x)\n",
    "scaled_x = scaler.transform(x)"
   ]
  },
  {
   "cell_type": "code",
   "execution_count": 7,
   "id": "88796331-ec61-4cf3-aabb-e1f36e058e8c",
   "metadata": {},
   "outputs": [],
   "source": [
    "from sklearn.model_selection import train_test_split\n",
    "\n",
    "x_train, x_test, y_train, y_test = train_test_split(scaled_x, y, test_size=0.1, random_state=1)"
   ]
  },
  {
   "cell_type": "code",
   "execution_count": 8,
   "id": "d7957f98-0c30-41f3-b0bb-2570a49b0541",
   "metadata": {},
   "outputs": [
    {
     "data": {
      "text/plain": [
       "RandomForestRegressor(max_depth=8, random_state=0)"
      ]
     },
     "execution_count": 8,
     "metadata": {},
     "output_type": "execute_result"
    }
   ],
   "source": [
    "model = RandomForestRegressor(max_depth=8, random_state=0)\n",
    "model.fit(x_train, y_train.values.ravel())\n"
   ]
  },
  {
   "cell_type": "code",
   "execution_count": 9,
   "id": "f1dc0c8c-f86c-4cd1-80e9-1b9001565640",
   "metadata": {},
   "outputs": [
    {
     "name": "stdout",
     "output_type": "stream",
     "text": [
      "mean absolute percentage error is == 15.730051511641102 %\n"
     ]
    }
   ],
   "source": [
    "y_prediction =  model.predict(x_test)\n",
    "y_prediction.shape\n",
    "#percentage error\n",
    "from sklearn.metrics import mean_absolute_percentage_error\n",
    "print(\"mean absolute percentage error is ==\",mean_absolute_percentage_error(y_test,y_prediction)*100, \"%\")"
   ]
  },
  {
   "cell_type": "code",
   "execution_count": 10,
   "id": "b5822f63-2b0a-406a-840e-2373129dbdb9",
   "metadata": {},
   "outputs": [
    {
     "name": "stdout",
     "output_type": "stream",
     "text": [
      "mean absolute error is == 2882.520494416112\n"
     ]
    }
   ],
   "source": [
    "from sklearn.metrics import mean_absolute_error\n",
    "print(\"mean absolute error is ==\",mean_absolute_error(y_test,y_prediction))"
   ]
  },
  {
   "cell_type": "code",
   "execution_count": 11,
   "id": "b10189bb-472a-4e57-94e1-53ef34a9287f",
   "metadata": {},
   "outputs": [
    {
     "name": "stdout",
     "output_type": "stream",
     "text": [
      "r2 score is == 0.9233742679418723\n"
     ]
    }
   ],
   "source": [
    "from sklearn.metrics import r2_score\n",
    "print(\"r2 score is ==\",  r2_score(y_test,y_prediction))"
   ]
  },
  {
   "cell_type": "code",
   "execution_count": null,
   "id": "5a1debc5-71c3-49c7-b588-483a8584f992",
   "metadata": {},
   "outputs": [],
   "source": []
  }
 ],
 "metadata": {
  "kernelspec": {
   "display_name": "Python 3 (ipykernel)",
   "language": "python",
   "name": "python3"
  },
  "language_info": {
   "codemirror_mode": {
    "name": "ipython",
    "version": 3
   },
   "file_extension": ".py",
   "mimetype": "text/x-python",
   "name": "python",
   "nbconvert_exporter": "python",
   "pygments_lexer": "ipython3",
   "version": "3.9.5"
  }
 },
 "nbformat": 4,
 "nbformat_minor": 5
}
